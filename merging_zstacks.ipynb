{
 "cells": [
  {
   "cell_type": "code",
   "execution_count": 1,
   "metadata": {},
   "outputs": [
    {
     "data": {
      "application/vnd.jupyter.widget-view+json": {
       "model_id": "e4cb650c032a461c8b37b2474a413525",
       "version_major": 2,
       "version_minor": 0
      },
      "text/plain": [
       "FileChooser(path='/hdd/project/zstack_merger', filename='', title='HTML(value='Input')', show_hidden='True', u…"
      ]
     },
     "metadata": {},
     "output_type": "display_data"
    },
    {
     "data": {
      "application/vnd.jupyter.widget-view+json": {
       "model_id": "34e77dc6382a45bd8c9d233a17332503",
       "version_major": 2,
       "version_minor": 0
      },
      "text/plain": [
       "FileChooser(path='/hdd/project/zstack_merger', filename='', title='HTML(value='Output')', show_hidden='True', …"
      ]
     },
     "metadata": {},
     "output_type": "display_data"
    }
   ],
   "source": [
    "import random\n",
    "import pandas as pd\n",
    "import numpy as np\n",
    "import re #REEEEEEE\n",
    "import glob\n",
    "\n",
    "from ipyfilechooser import FileChooser\n",
    "\n",
    "def make_chooser(title='Choose File'):\n",
    "    \"\"\"\n",
    "    creates a jupyter notebook filechooser\n",
    "    args:\n",
    "        title - title of file chooser\n",
    "    return:\n",
    "        fc - new file chooser for selecting dirs with title \n",
    "    \"\"\"\n",
    "    fc = FileChooser()\n",
    "    fc.show_hidden = True\n",
    "    fc.use_dir_icons = True\n",
    "    fc.show_only_dirs = True\n",
    "    fc.title = title\n",
    "    return fc\n",
    "\n",
    "inDir = make_chooser('Input')\n",
    "outDir = make_chooser('Output')\n",
    "\n",
    "display(inDir)\n",
    "display(outDir)"
   ]
  },
  {
   "cell_type": "code",
   "execution_count": 2,
   "metadata": {},
   "outputs": [
    {
     "data": {
      "text/plain": [
       "'/mnt/instrumentdata/CV8000/Daysha/jonny/enteroid5_20201222_141330/789_12-22-20_14-15-23'"
      ]
     },
     "execution_count": 2,
     "metadata": {},
     "output_type": "execute_result"
    }
   ],
   "source": [
    "inDir.selected_path"
   ]
  },
  {
   "cell_type": "code",
   "execution_count": null,
   "metadata": {},
   "outputs": [],
   "source": [
    "%ls '/mnt/instrumentdata/CV8000/Daysha/jonny/enteroid5_20201222_141330/789_12-22-20_14-15-23'\n"
   ]
  },
  {
   "cell_type": "code",
   "execution_count": 3,
   "metadata": {},
   "outputs": [],
   "source": [
    "files = glob.glob(inDir.selected_path+'/*.tif')"
   ]
  },
  {
   "cell_type": "code",
   "execution_count": 5,
   "metadata": {},
   "outputs": [],
   "source": [
    "test = files[0]"
   ]
  },
  {
   "cell_type": "code",
   "execution_count": 6,
   "metadata": {},
   "outputs": [
    {
     "data": {
      "text/plain": [
       "'/mnt/instrumentdata/CV8000/Daysha/jonny/enteroid5_20201222_141330/789_12-22-20_14-15-23/789_12-22-20_14-15-23_A01_T0001F001L01A01Z01C01.tif'"
      ]
     },
     "execution_count": 6,
     "metadata": {},
     "output_type": "execute_result"
    }
   ],
   "source": [
    "# WellID_fieldID_Chan.tif\n",
    "test"
   ]
  },
  {
   "cell_type": "code",
   "execution_count": 9,
   "metadata": {},
   "outputs": [
    {
     "name": "stdout",
     "output_type": "stream",
     "text": [
      "A01\n",
      "F001\n",
      "C01\n",
      "A01_F001_C01.tif\n"
     ]
    }
   ],
   "source": [
    "REG = r'.*_(.*)_T[0-9]{4}(F.*)L01A[0-9]{2}Z[0-9]{2}(C[0-9]{2}).tif'\n",
    "m = re.search(REG, test)\n",
    "wellId = m.group(1)\n",
    "print(wellId)\n",
    "fieldId = m.group(2)\n",
    "print(fieldId)\n",
    "channel = m.group(3)\n",
    "print(channel)\n",
    "filename = f'{wellId}_{fieldId}_{channel}.tif'\n",
    "print(filename)"
   ]
  },
  {
   "cell_type": "code",
   "execution_count": 10,
   "metadata": {
    "scrolled": true
   },
   "outputs": [],
   "source": [
    "fields = {}\n",
    "for i in range(1,21): # fields go from 1-20\n",
    "    f= r'({:03d})'.format(i)\n",
    "    fields[i] = [x for x in files if re.match( r\".*_.*_T[0-9]{4}(F\"+f+r\")L01A[0-9]{2}Z[0-9]{2,3}C[0-9]{2}.tif\", x)]"
   ]
  },
  {
   "cell_type": "code",
   "execution_count": null,
   "metadata": {},
   "outputs": [],
   "source": [
    "channels = {}\n",
    "for i in range(1,4): # channels go from 1-3\n",
    "    chan = r'(C{:02d})'.format(i)\n",
    "    channels[i] = [x for x in files if re.match(r'.*_(.*)_T[0-9]{4}(F.*)L01A[0-9]{2}Z[0-9]{2,3}'+chan+r'.tif',x)]\n",
    "    break"
   ]
  },
  {
   "cell_type": "code",
   "execution_count": null,
   "metadata": {},
   "outputs": [],
   "source": [
    "temp = channels[1][0]\n",
    "k = "
   ]
  },
  {
   "cell_type": "code",
   "execution_count": 11,
   "metadata": {},
   "outputs": [
    {
     "data": {
      "text/plain": [
       "1323"
      ]
     },
     "execution_count": 11,
     "metadata": {},
     "output_type": "execute_result"
    }
   ],
   "source": [
    "len(fields[9])"
   ]
  },
  {
   "cell_type": "code",
   "execution_count": 18,
   "metadata": {},
   "outputs": [
    {
     "data": {
      "text/plain": [
       "26460"
      ]
     },
     "execution_count": 18,
     "metadata": {},
     "output_type": "execute_result"
    }
   ],
   "source": [
    "1323*20"
   ]
  },
  {
   "cell_type": "code",
   "execution_count": 12,
   "metadata": {},
   "outputs": [],
   "source": [
    "count = 0\n",
    "for i in range(1, 21):\n",
    "    count +=len(fields[i])"
   ]
  },
  {
   "cell_type": "code",
   "execution_count": 14,
   "metadata": {},
   "outputs": [
    {
     "data": {
      "text/plain": [
       "19845"
      ]
     },
     "execution_count": 14,
     "metadata": {},
     "output_type": "execute_result"
    }
   ],
   "source": [
    "count"
   ]
  },
  {
   "cell_type": "code",
   "execution_count": 15,
   "metadata": {},
   "outputs": [
    {
     "data": {
      "text/plain": [
       "46311"
      ]
     },
     "execution_count": 15,
     "metadata": {},
     "output_type": "execute_result"
    }
   ],
   "source": [
    "len(files)"
   ]
  },
  {
   "cell_type": "code",
   "execution_count": 16,
   "metadata": {},
   "outputs": [
    {
     "data": {
      "text/plain": [
       "list"
      ]
     },
     "execution_count": 16,
     "metadata": {},
     "output_type": "execute_result"
    }
   ],
   "source": [
    "type(files)"
   ]
  },
  {
   "cell_type": "code",
   "execution_count": 17,
   "metadata": {},
   "outputs": [],
   "source": [
    "with open('files.txt', 'w') as f:\n",
    "    for fil in files:\n",
    "        f.write(\"%s\\n\" % fil)"
   ]
  },
  {
   "cell_type": "code",
   "execution_count": null,
   "metadata": {},
   "outputs": [],
   "source": []
  }
 ],
 "metadata": {
  "kernelspec": {
   "display_name": "Python 3",
   "language": "python",
   "name": "python3"
  },
  "language_info": {
   "codemirror_mode": {
    "name": "ipython",
    "version": 3
   },
   "file_extension": ".py",
   "mimetype": "text/x-python",
   "name": "python",
   "nbconvert_exporter": "python",
   "pygments_lexer": "ipython3",
   "version": "3.6.9"
  }
 },
 "nbformat": 4,
 "nbformat_minor": 4
}
